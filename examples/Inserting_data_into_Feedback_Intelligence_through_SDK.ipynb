{
  "nbformat": 4,
  "nbformat_minor": 0,
  "metadata": {
    "colab": {
      "provenance": []
    },
    "kernelspec": {
      "name": "python3",
      "display_name": "Python 3"
    },
    "language_info": {
      "name": "python"
    }
  },
  "cells": [
    {
      "cell_type": "markdown",
      "source": [
        "# 0. Installing libraries"
      ],
      "metadata": {
        "id": "VUFyCXH-S1un"
      }
    },
    {
      "cell_type": "code",
      "source": [
        "!pip install tqdm pandas feedbackIntelligence"
      ],
      "metadata": {
        "id": "OCdg54QXS0_Y"
      },
      "execution_count": null,
      "outputs": []
    },
    {
      "cell_type": "markdown",
      "source": [
        "# 1. Import libraries and initialize SDK"
      ],
      "metadata": {
        "id": "UUURaPKuOupJ"
      }
    },
    {
      "cell_type": "code",
      "execution_count": 2,
      "metadata": {
        "id": "i2KH6xxFC4Dw"
      },
      "outputs": [],
      "source": [
        "from tqdm.notebook import tqdm\n",
        "from feedbackIntelligence.fi import FeedbackIntelligenceSDK\n",
        "from feedbackIntelligence.schemas import Message, Context, Feedback\n",
        "\n",
        "\n",
        "sdk = FeedbackIntelligenceSDK(api_key=\"your_api_key_here\")"
      ]
    },
    {
      "cell_type": "markdown",
      "source": [
        "# 2. Read data"
      ],
      "metadata": {
        "id": "tMiBnlbbPEjU"
      }
    },
    {
      "cell_type": "code",
      "source": [
        "import pandas as pd\n",
        "df = pd.read_csv(\"https://raw.githubusercontent.com/manotai/FI_SDK/main/examples/data.csv\")\n",
        "df"
      ],
      "metadata": {
        "id": "sNHAwuGkDsvZ"
      },
      "execution_count": null,
      "outputs": []
    },
    {
      "cell_type": "markdown",
      "source": [
        "# 3. Upload data to Feedback Intelligence platform"
      ],
      "metadata": {
        "id": "zJrC8_YIPNW4"
      }
    },
    {
      "cell_type": "markdown",
      "source": [
        "## 3.1 Upload chat data"
      ],
      "metadata": {
        "id": "mGXzjTERPstp"
      }
    },
    {
      "cell_type": "code",
      "source": [
        "progress_bar = tqdm(total=len(df))\n",
        "for row in df.itertuples():\n",
        "    if not pd.isna(row.thumbs_up) and not pd.isna(row.feedback):\n",
        "        messages = [\n",
        "            Message(\n",
        "                role='human',\n",
        "                text=row.question,\n",
        "                propmt=row.prompt,\n",
        "                context=Context(text=row.context)\n",
        "            ),\n",
        "            Message(role='ai', text=row.answer, feedback=Feedback(thumbs_up=row.thumbs_up, message=row.feedback))\n",
        "        ]\n",
        "    elif not pd.isna(row.feedback):\n",
        "        messages = [\n",
        "            Message(\n",
        "                role='human',\n",
        "                text=row.question,\n",
        "                propmt=row.prompt,\n",
        "                context=Context(text=row.context)\n",
        "            ),\n",
        "            Message(role='ai', text=row.answer, feedback=Feedback(message=row.feedback))\n",
        "        ]\n",
        "    elif not pd.isna(row.thumbs_up):\n",
        "        messages = [\n",
        "            Message(\n",
        "                role='human',\n",
        "                text=row.question,\n",
        "                propmt=row.prompt,\n",
        "                context=Context(text=row.context)\n",
        "            ),\n",
        "            Message(role='ai', text=row.answer, feedback=Feedback(thumbs_up=row.thumbs_up))\n",
        "        ]\n",
        "    else:\n",
        "        messages = [\n",
        "            Message(\n",
        "                role='human',\n",
        "                text=row.question,\n",
        "                propmt=row.prompt,\n",
        "                context=Context(text=row.context)\n",
        "            ),\n",
        "            Message(role='ai', text=row.answer)\n",
        "        ]\n",
        "    response = sdk.add_chat(project_id=\"your_project_id\", chat_id=2, messages=messages)\n",
        "    progress_bar.update(1)"
      ],
      "metadata": {
        "id": "TJo_4fbiDog3"
      },
      "execution_count": null,
      "outputs": []
    },
    {
      "cell_type": "markdown",
      "source": [
        "## 3.2(optional) Upload only context data"
      ],
      "metadata": {
        "id": "Y9MEuL2nPx61"
      }
    },
    {
      "cell_type": "code",
      "source": [
        "response = sdk.add_context(project_id=\"your_project_id\", context=\"Sample context\", context_id=123)\n",
        "# Or you can skip the context_id and it will be automaticly generated\n",
        "response = sdk.add_context(project_id=\"your_project_id\", context=\"Sample context\")"
      ],
      "metadata": {
        "id": "AUd_K3T6ELKY"
      },
      "execution_count": null,
      "outputs": []
    },
    {
      "cell_type": "markdown",
      "source": [
        "## 3.3(optional) Uploading feedback from other than in-app sources"
      ],
      "metadata": {
        "id": "KAr47YIuQbsE"
      }
    },
    {
      "cell_type": "code",
      "source": [
        "response = sdk.add_feedback(project_id=\"your_project_id\", message=\"Great service\", source=\"email\")"
      ],
      "metadata": {
        "id": "vZXMOOL7HC1B"
      },
      "execution_count": null,
      "outputs": []
    }
  ]
}