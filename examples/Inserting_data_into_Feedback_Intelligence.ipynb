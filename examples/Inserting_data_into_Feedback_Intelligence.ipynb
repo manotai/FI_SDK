{
 "nbformat": 4,
 "nbformat_minor": 0,
 "metadata": {
  "colab": {
   "provenance": []
  },
  "kernelspec": {
   "name": "python3",
   "language": "python",
   "display_name": "Python 3 (ipykernel)"
  },
  "language_info": {
   "name": "python"
  }
 },
 "cells": [
  {
   "cell_type": "markdown",
   "source": [
    "# 0. Installing libraries"
   ],
   "metadata": {
    "id": "VUFyCXH-S1un"
   }
  },
  {
   "cell_type": "code",
   "source": [
    "!pip install tqdm pandas requests"
   ],
   "metadata": {
    "id": "OCdg54QXS0_Y"
   },
   "execution_count": null,
   "outputs": []
  },
  {
   "cell_type": "markdown",
   "source": [
    "# 1. Import libraries and initialize SDK"
   ],
   "metadata": {
    "id": "UUURaPKuOupJ"
   }
  },
  {
   "cell_type": "code",
   "execution_count": 4,
   "metadata": {
    "id": "i2KH6xxFC4Dw",
    "ExecuteTime": {
     "end_time": "2024-09-05T15:43:59.906354Z",
     "start_time": "2024-09-05T15:43:59.905625Z"
    }
   },
   "outputs": [],
   "source": [
    "from tqdm import tqdm\n",
    "import requests\n",
    "\n",
    "your_api_key = \"your_api_key\""
   ]
  },
  {
   "cell_type": "markdown",
   "source": [
    "# 2. Read data"
   ],
   "metadata": {
    "id": "tMiBnlbbPEjU"
   }
  },
  {
   "cell_type": "code",
   "source": [
    "import pandas as pd\n",
    "\n",
    "df = pd.read_csv(\"https://raw.githubusercontent.com/manotai/FI_SDK/main/examples/data.csv\")\n",
    "df"
   ],
   "metadata": {
    "id": "sNHAwuGkDsvZ"
   },
   "execution_count": null,
   "outputs": []
  },
  {
   "cell_type": "markdown",
   "source": [
    "# 3. Upload data to Feedback Intelligence platform"
   ],
   "metadata": {
    "id": "zJrC8_YIPNW4"
   }
  },
  {
   "cell_type": "markdown",
   "source": [
    "## 3.1 Upload chat data"
   ],
   "metadata": {
    "id": "mGXzjTERPstp"
   }
  },
  {
   "cell_type": "code",
   "source": [
    "progress_bar = tqdm(total=len(df))\n",
    "for row in df.itertuples():\n",
    "    if not pd.isna(row.thumbs_up) and not pd.isna(row.feedback):\n",
    "        messages = [{\n",
    "            'role': 'human',\n",
    "            'text': row.question,\n",
    "            'propmt': row.prompt,\n",
    "            'context': {'text': row.context}\n",
    "        },\n",
    "\n",
    "            {'role': 'ai',\n",
    "             'text': row.answer,\n",
    "             'feedback': {'thumbs_up': row.thumbs_up, 'message': row.feedback}\n",
    "             }\n",
    "        ]\n",
    "    elif not pd.isna(row.feedback):\n",
    "        messages = [{\n",
    "            'role': 'human',\n",
    "            'text': row.question,\n",
    "            'propmt': row.prompt,\n",
    "            'context': {'text': row.context}\n",
    "        },\n",
    "\n",
    "            {'role': 'ai',\n",
    "             'text': row.answer,\n",
    "             'feedback': {'message': row.feedback}\n",
    "             }\n",
    "        ]\n",
    "    elif not pd.isna(row.thumbs_up):\n",
    "        messages = [{\n",
    "            'role': 'human',\n",
    "            'text': row.question,\n",
    "            'propmt': row.prompt,\n",
    "            'context': {'text': row.context}\n",
    "        },\n",
    "\n",
    "            {'role': 'ai',\n",
    "             'text': row.answer,\n",
    "             'feedback': {'thumbs_up': row.thumbs_up}\n",
    "             }\n",
    "        ]\n",
    "    else:\n",
    "        messages = [{\n",
    "            'role': 'human',\n",
    "            'text': row.question,\n",
    "            'propmt': row.prompt,\n",
    "            'context': {'text': row.context}\n",
    "        },\n",
    "\n",
    "            {'role': 'ai',\n",
    "             'text': row.answer\n",
    "             }\n",
    "        ]\n",
    "\n",
    "    project_id = 'your_project_id'\n",
    "    chat_id = \"chat_id\"\n",
    "\n",
    "    payload = {\n",
    "        \"chat_id\": chat_id,\n",
    "        \"messages\": [message for message in messages],\n",
    "    }\n",
    "    response = requests.post(f\"https://data.feedbackintelligence.ai/data/{project_id}/chat/add\",\n",
    "                             json=payload,\n",
    "                             headers={'Content-Type': 'application/json',\n",
    "                                      'Authorization': f'Bearer {your_api_key}'})\n",
    "\n",
    "    progress_bar.update(1)"
   ],
   "metadata": {
    "id": "TJo_4fbiDog3"
   },
   "execution_count": null,
   "outputs": []
  },
  {
   "cell_type": "markdown",
   "source": [
    "## 3.2(optional) Upload only context data"
   ],
   "metadata": {
    "id": "Y9MEuL2nPx61"
   }
  },
  {
   "cell_type": "code",
   "source": [
    "payload = {\"context\": \"Sample context\"}\n",
    "\n",
    "response = requests.post(f\"https://data.feedbackintelligence.ai/data/{project_id}/context/add\",\n",
    "                         json=payload,\n",
    "                         headers={'Content-Type': 'application/json',\n",
    "                                  'Authorization': f'Bearer {your_api_key}'})\n",
    "\n"
   ],
   "metadata": {
    "id": "AUd_K3T6ELKY",
    "ExecuteTime": {
     "end_time": "2024-09-05T16:50:34.777987Z",
     "start_time": "2024-09-05T16:50:33.905976Z"
    }
   },
   "execution_count": 18,
   "outputs": []
  },
  {
   "cell_type": "markdown",
   "source": [
    "## 3.3(optional) Uploading feedback from other than in-app sources"
   ],
   "metadata": {
    "id": "KAr47YIuQbsE"
   }
  },
  {
   "cell_type": "code",
   "source": [
    "payload = {\"message\": \"Sample feedback\", \"source\": \"email\"}\n",
    "response = requests.post(f\"https://data.feedbackintelligence.ai/data/{project_id}/feedback/add\",\n",
    "                         json=payload,\n",
    "                         headers={'Content-Type': 'application/json',\n",
    "                                  'Authorization': f'Bearer {your_api_key}'})\n"
   ],
   "metadata": {
    "id": "vZXMOOL7HC1B",
    "ExecuteTime": {
     "end_time": "2024-09-05T16:51:22.920043Z",
     "start_time": "2024-09-05T16:51:21.691990Z"
    }
   },
   "execution_count": 20,
   "outputs": []
  }
 ]
}
